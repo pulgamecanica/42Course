{
 "cells": [
  {
   "cell_type": "markdown",
   "metadata": {},
   "source": [
    "***\n",
    "\n",
    "# Calculate my statistics\n",
    "\n",
    "***\n",
    "\n",
    "You must take in *args a quantity of unknown number and make the Mean, Median,<br>\n",
    "Quartile (25% and 75%), Standard Deviation and Variance according to the \\**kwargs ask.<br>\n",
    "You have to manage the errors.<br>\n",
    "\n",
    "***\n",
    "\n",
    "\n",
    "#### The prototype of function is:\n",
    "\n",
    "```python\n",
    "def ft_statistics(*args: Any, **kwargs: Any) -> None:\n",
    "#your code here\n",
    "```"
   ]
  },
  {
   "cell_type": "code",
   "execution_count": 24,
   "metadata": {},
   "outputs": [],
   "source": [
    "from typing import Any\n",
    "\n",
    "#https://en.wikipedia.org/wiki/Standard_deviation\n",
    "\n",
    "\"\"\"\n",
    "Variance: How much the value varies from the mean\n",
    "\n",
    "Standard deviation: The square root of the variance.\n",
    "It provides a measure of the average distance of each data point from the mean.\n",
    "Standard deviation is useful because it is expressed in the same units as the original data.\n",
    "\"\"\"\n",
    "def ft_statistics(*args: Any, **kwargs: Any) -> None:\n",
    "    \"\"\"\n",
    "    Calculate statistics based on provided arguments and keyword arguments.\n",
    "\n",
    "    Args:\n",
    "        *args: Any number of arguments. Can be numbers or lists of numbers.\n",
    "        **kwargs: Keyword arguments specifying which statistics to calculate.\n",
    "            Each keyword argument should be named after the statistic to calculate\n",
    "            and set to True to include it in the calculation.\n",
    "\n",
    "    Raises:\n",
    "        TypeError: If arguments are not numbers.\n",
    "\n",
    "    Returns:\n",
    "        None: Prints the calculated statistics.\n",
    "    \"\"\"\n",
    "    numbers = []\n",
    "    for arg in args:\n",
    "        if isinstance(arg, (int, float)):\n",
    "            numbers.append(arg)\n",
    "        else:\n",
    "            raise TypeError(\"Arguments must be numbers.\")\n",
    "\n",
    "    stats_functions = {\n",
    "        \"mean\": lambda x: sum(x) / len(x) if x else None,\n",
    "        \"median\": lambda x: sorted(x)[len(x) // 2] if len(x) % 2 != 0 else (sorted(x)[len(x) // 2 - 1] + sorted(x)[len(x) // 2]) / 2 if x else None,\n",
    "        \"quartile\": lambda x: [float(sorted(x)[int(len(x) * 0.25)]), float(sorted(x)[int(len(x) * 0.75)])] if x else None,\n",
    "        \"std\": lambda x: (sum([(i - sum(x) / len(x)) ** 2 for i in x]) / len(x)) ** 0.5 if x else None,\n",
    "        \"var\": lambda x: sum([(i - sum(x) / len(x)) ** 2 for i in x]) / len(x) if x else None\n",
    "    }\n",
    "    \n",
    "    for stat in kwargs.values():\n",
    "        if stat in stats_functions:\n",
    "            res = stats_functions[stat](numbers)\n",
    "            if res:\n",
    "                print(f\"{stat} : {res}\")\n",
    "            else:\n",
    "                print(\"ERROR\")\n",
    "    "
   ]
  },
  {
   "cell_type": "code",
   "execution_count": 25,
   "metadata": {},
   "outputs": [
    {
     "name": "stdout",
     "output_type": "stream",
     "text": [
      "mean : 95.6\n",
      "median : 42\n",
      "quartile : [11.0, 64.0]\n",
      "-----\n",
      "std : 17982.70124086944\n",
      "var : 323377543.9183673\n",
      "-----\n",
      "-----\n",
      "ERROR\n",
      "ERROR\n",
      "ERROR\n",
      "-----\n",
      "mean : 5.5\n",
      "var : 8.25\n",
      "std : 2.8722813232690143\n",
      "quartile : [3.0, 8.0]\n",
      "median : 5.5\n"
     ]
    }
   ],
   "source": [
    "ft_statistics(1, 42, 360, 11, 64, toto=\"mean\", tutu=\"median\", tata=\"quartile\")\n",
    "print(\"-----\")\n",
    "ft_statistics(5, 75, 450, 18, 597, 27474, 48575, hello=\"std\", world=\"var\")\n",
    "print(\"-----\")\n",
    "ft_statistics(5, 75, 450, 18, 597, 27474, 48575, ejfhhe=\"heheh\", ejdjdejn=\"kdekem\")\n",
    "print(\"-----\")\n",
    "ft_statistics(toto=\"mean\", tutu=\"median\", tata=\"quartile\")\n",
    "print(\"-----\")\n",
    "try:\n",
    "    ft_statistics(1, 2, 3, 4, 5, 6, 7, 8, 9, 10, mean=\"mean\", median=\"var\", quartiles=\"std\", std_dev=\"quartile\", variance=\"median\")\n",
    "except TypeError as e:\n",
    "    print(\"Error:\", e)\n"
   ]
  },
  {
   "cell_type": "markdown",
   "metadata": {},
   "source": [
    "***\n",
    "\n",
    "# Outer_inner\n",
    "\n",
    "***\n",
    "\n",
    "Write a function `square` that returns the square of argument.<br>\n",
    "Write a function `pow` that returns the exponentiation of argument.<br>\n",
    "<br>\n",
    "Create the function `outer` which takes as argument a number and a `function`<br>\n",
    "It returns an callable object. When called, it returns the result of the `function` called with the parameter or the last result.\n",
    "\n",
    "***\n",
    "\n",
    "#### The prototype of functions is:\n",
    "\n",
    "```python\n",
    "def square(x: int | float) -> int | float:\n",
    "#your code here\n",
    "\n",
    "def pow(x: int | float) -> int | float:\n",
    "#your code here\n",
    "\n",
    "def outer(x: int | float, function) -> object:\n",
    "    count = 0\n",
    "\n",
    "    def inner() -> float:\n",
    "    #your code here\n",
    "```"
   ]
  },
  {
   "cell_type": "code",
   "execution_count": 26,
   "metadata": {},
   "outputs": [],
   "source": [
    "def square(x: int or float) -> int or float:\n",
    "    \"\"\"Return square of a number.\"\"\"\n",
    "    return x ** 2\n",
    "\n",
    "\n",
    "def pow(x: int or float) -> int or float:\n",
    "    \"\"\"Return the power of a number.\"\"\"\n",
    "    return x ** x\n",
    "\n",
    "\n",
    "def outer(x: int or float, function) -> object:\n",
    "    \"\"\"\n",
    "    Returns a callable function which keeps a count of the last result\n",
    "    \"\"\"\n",
    "\n",
    "    count = x\n",
    "\n",
    "    def inner() -> float:\n",
    "        \"\"\"Function callback for the callable object returned\"\"\"\n",
    "        nonlocal count\n",
    "        count = function(count)\n",
    "        return count\n",
    "\n",
    "    return inner"
   ]
  },
  {
   "cell_type": "code",
   "execution_count": 27,
   "metadata": {},
   "outputs": [
    {
     "name": "stdout",
     "output_type": "stream",
     "text": [
      "9\n",
      "81\n",
      "6561\n",
      "---\n",
      "1.8371173070873836\n",
      "3.056683336818703\n",
      "30.42684786675409\n"
     ]
    }
   ],
   "source": [
    "my_counter = outer(3, square)\n",
    "print(my_counter())  # Output: 9\n",
    "print(my_counter())  # Output: 81\n",
    "print(my_counter())  # Output: 6561\n",
    "print(\"---\")\n",
    "another_counter = outer(1.5, pow)\n",
    "print(another_counter())  # Output: 1.8371173070873836\n",
    "print(another_counter())  # Output: 3.056683336818703\n",
    "print(another_counter())  # Output: 30.42684786675409"
   ]
  },
  {
   "cell_type": "markdown",
   "metadata": {},
   "source": [
    "***\n",
    "\n",
    "# My First Decorating\n",
    "\n",
    "***\n",
    "\n",
    "Write a function that takes as argument a call limit of another function and blocks<br>\n",
    "its execution above a limit.<br>\n",
    "\n",
    "***\n",
    "\n",
    "#### The prototype of functions is:\n",
    "\n",
    "```python\n",
    "def callLimit(limit: int):\n",
    "    count = 0\n",
    "    def callLimiter(function): \n",
    "        def limit_function(*args: Any, **kwds: Any):\n",
    "        #your code here\n",
    "\n",
    "````\n",
    "\n",
    "***\n",
    "\n",
    "#### Refs:\n",
    "\n",
    "https://www.learnpython.org/en/Decorators <br>\n",
    "https://wiki.python.org/moin/PythonDecoratorLibrary\n"
   ]
  },
  {
   "cell_type": "code",
   "execution_count": 30,
   "metadata": {},
   "outputs": [],
   "source": [
    "from typing import Any\n",
    "\n",
    "def callLimit(limit: int):\n",
    "    count = 0\n",
    "    def callLimiter(function): \n",
    "        def limit_function(*args: Any, **kwds: Any):\n",
    "            nonlocal count\n",
    "            if count >= limit:\n",
    "                print(\"Error:\",function, \"call too many times\")\n",
    "                return\n",
    "            count += 1\n",
    "            return function(*args, **kwds)\n",
    "        return limit_function\n",
    "    return callLimiter"
   ]
  },
  {
   "cell_type": "code",
   "execution_count": 31,
   "metadata": {},
   "outputs": [
    {
     "name": "stdout",
     "output_type": "stream",
     "text": [
      "f()\n",
      "g()\n",
      "f()\n",
      "Error: <function g at 0x104909af0> call too many times\n",
      "f()\n",
      "Error: <function g at 0x104909af0> call too many times\n"
     ]
    }
   ],
   "source": [
    "\n",
    "# Tester\n",
    "\n",
    "# from callLimit import callLimit\n",
    "@callLimit(3)\n",
    "def f():\n",
    "    print (\"f()\")\n",
    "    \n",
    "@callLimit(1)\n",
    "def g():\n",
    "    print (\"g()\")\n",
    "\n",
    "for i in range(3):\n",
    "    f()\n",
    "    g()"
   ]
  },
  {
   "cell_type": "code",
   "execution_count": 32,
   "metadata": {},
   "outputs": [
    {
     "name": "stdout",
     "output_type": "stream",
     "text": [
      "f()\n",
      "g()\n",
      "f()\n",
      "Error: <function g at 0x104909f70> call too many times\n",
      "f()\n",
      "Error: <function g at 0x104909f70> call too many times\n"
     ]
    }
   ],
   "source": [
    "# Without decorators\n",
    "\n",
    "def f():\n",
    "    print (\"f()\")\n",
    "    \n",
    "def g():\n",
    "    print (\"g()\")\n",
    "    \n",
    "f = callLimit(3)(f)\n",
    "g = callLimit(1)(g)\n",
    "\n",
    "for i in range(3):\n",
    "    f()\n",
    "    g()"
   ]
  },
  {
   "cell_type": "markdown",
   "metadata": {},
   "source": [
    "***\n",
    "\n",
    "# Data Class\n",
    "\n",
    "***\n",
    "\n",
    "Write a dataclass that takes as arguments a name and nickname, set active to True,<br>\n",
    "create the student login, and generate a random ID with the generate_id function.<br>\n",
    "You must not use __str__ , __repr__ in your class.<br>\n",
    "\n",
    "***\n",
    "\n",
    "#### The prototype of function and class is:\n",
    "\n",
    "```python\n",
    "import random\n",
    "import string\n",
    "from dataclasses import dataclass, field\n",
    "\n",
    "def generate_id() -> str:\n",
    "    return \"\".join(random.choices(string.ascii_lowercase, k = 15))\n",
    "\n",
    "@dataclass\n",
    "class Student:\n",
    "#your code here\n",
    "```\n",
    "\n",
    "***\n",
    "\n",
    "#### Refs:\n",
    "\n",
    "https://docs.python.org/3/library/dataclasses.html\n",
    "https://docs.python.org/3/library/dataclasses.html#init-only-variables"
   ]
  },
  {
   "cell_type": "code",
   "execution_count": 80,
   "metadata": {},
   "outputs": [],
   "source": [
    "import random\n",
    "import string\n",
    "from dataclasses import dataclass, field, InitVar\n",
    "\n",
    "def generate_id() -> str:\n",
    "    return \"\".join(random.choices(string.ascii_lowercase, k = 15))\n",
    "\n",
    "@dataclass()\n",
    "class Student:\n",
    "    \"\"\"Class for keeping track of an item in inventory.\"\"\"\n",
    "    name: str\n",
    "    surname: str\n",
    "    active: bool = True\n",
    "    login: str = field(init=False, default=\"Eagle\")\n",
    "    id: str = field(init=False, default=generate_id())"
   ]
  },
  {
   "cell_type": "code",
   "execution_count": 81,
   "metadata": {},
   "outputs": [
    {
     "name": "stdout",
     "output_type": "stream",
     "text": [
      "Student(name='Edward', surname='agle', active=True, login='Eagle', id='nfzdnkcduorcblw')\n"
     ]
    }
   ],
   "source": [
    "student = Student(name = \"Edward\", surname = \"agle\")\n",
    "print(student)"
   ]
  },
  {
   "cell_type": "code",
   "execution_count": 82,
   "metadata": {},
   "outputs": [
    {
     "ename": "TypeError",
     "evalue": "__init__() got an unexpected keyword argument 'login'",
     "output_type": "error",
     "traceback": [
      "\u001b[0;31m---------------------------------------------------------------------------\u001b[0m",
      "\u001b[0;31mTypeError\u001b[0m                                 Traceback (most recent call last)",
      "\u001b[0;32m<ipython-input-82-1f2b298b8505>\u001b[0m in \u001b[0;36m<module>\u001b[0;34m\u001b[0m\n\u001b[1;32m      1\u001b[0m \u001b[0;31m# Error Check, should throw error\u001b[0m\u001b[0;34m\u001b[0m\u001b[0;34m\u001b[0m\u001b[0;34m\u001b[0m\u001b[0m\n\u001b[0;32m----> 2\u001b[0;31m \u001b[0mstudent\u001b[0m \u001b[0;34m=\u001b[0m \u001b[0mStudent\u001b[0m\u001b[0;34m(\u001b[0m\u001b[0mname\u001b[0m \u001b[0;34m=\u001b[0m \u001b[0;34m\"Edward\"\u001b[0m\u001b[0;34m,\u001b[0m \u001b[0msurname\u001b[0m \u001b[0;34m=\u001b[0m \u001b[0;34m\"agle\"\u001b[0m\u001b[0;34m,\u001b[0m \u001b[0mlogin\u001b[0m \u001b[0;34m=\u001b[0m \u001b[0;34m\"toto\"\u001b[0m\u001b[0;34m)\u001b[0m\u001b[0;34m\u001b[0m\u001b[0;34m\u001b[0m\u001b[0m\n\u001b[0m\u001b[1;32m      3\u001b[0m \u001b[0mprint\u001b[0m\u001b[0;34m(\u001b[0m\u001b[0mstudent\u001b[0m\u001b[0;34m)\u001b[0m\u001b[0;34m\u001b[0m\u001b[0;34m\u001b[0m\u001b[0m\n",
      "\u001b[0;31mTypeError\u001b[0m: __init__() got an unexpected keyword argument 'login'"
     ]
    }
   ],
   "source": [
    "# Error Check, should throw error\n",
    "student = Student(name = \"Edward\", surname = \"agle\", login = \"toto\")\n",
    "print(student)"
   ]
  },
  {
   "cell_type": "code",
   "execution_count": 83,
   "metadata": {},
   "outputs": [
    {
     "ename": "TypeError",
     "evalue": "__init__() got an unexpected keyword argument 'id'",
     "output_type": "error",
     "traceback": [
      "\u001b[0;31m---------------------------------------------------------------------------\u001b[0m",
      "\u001b[0;31mTypeError\u001b[0m                                 Traceback (most recent call last)",
      "\u001b[0;32m<ipython-input-83-2d8caba12f7b>\u001b[0m in \u001b[0;36m<module>\u001b[0;34m\u001b[0m\n\u001b[1;32m      1\u001b[0m \u001b[0;31m# Error Check, should throw error\u001b[0m\u001b[0;34m\u001b[0m\u001b[0;34m\u001b[0m\u001b[0;34m\u001b[0m\u001b[0m\n\u001b[0;32m----> 2\u001b[0;31m \u001b[0mstudent\u001b[0m \u001b[0;34m=\u001b[0m \u001b[0mStudent\u001b[0m\u001b[0;34m(\u001b[0m\u001b[0mname\u001b[0m \u001b[0;34m=\u001b[0m \u001b[0;34m\"Edward\"\u001b[0m\u001b[0;34m,\u001b[0m \u001b[0msurname\u001b[0m \u001b[0;34m=\u001b[0m \u001b[0;34m\"agle\"\u001b[0m\u001b[0;34m,\u001b[0m \u001b[0mid\u001b[0m \u001b[0;34m=\u001b[0m \u001b[0;34m\"toto\"\u001b[0m\u001b[0;34m)\u001b[0m\u001b[0;34m\u001b[0m\u001b[0;34m\u001b[0m\u001b[0m\n\u001b[0m\u001b[1;32m      3\u001b[0m \u001b[0mprint\u001b[0m\u001b[0;34m(\u001b[0m\u001b[0mstudent\u001b[0m\u001b[0;34m)\u001b[0m\u001b[0;34m\u001b[0m\u001b[0;34m\u001b[0m\u001b[0m\n",
      "\u001b[0;31mTypeError\u001b[0m: __init__() got an unexpected keyword argument 'id'"
     ]
    }
   ],
   "source": [
    "# Error Check, should throw error\n",
    "student = Student(name = \"Edward\", surname = \"agle\", id = \"toto\")\n",
    "print(student)"
   ]
  },
  {
   "cell_type": "code",
   "execution_count": null,
   "metadata": {},
   "outputs": [],
   "source": []
  }
 ],
 "metadata": {
  "kernelspec": {
   "display_name": "Python 3",
   "language": "python",
   "name": "python3"
  },
  "language_info": {
   "codemirror_mode": {
    "name": "ipython",
    "version": 3
   },
   "file_extension": ".py",
   "mimetype": "text/x-python",
   "name": "python",
   "nbconvert_exporter": "python",
   "pygments_lexer": "ipython3",
   "version": "3.8.18"
  }
 },
 "nbformat": 4,
 "nbformat_minor": 4
}
