{
 "cells": [
  {
   "attachments": {},
   "cell_type": "markdown",
   "id": "30747d29-4dc0-47c5-b3b2-5108068d518d",
   "metadata": {},
   "source": [
    "![hobbits_ai_generated.jpg](https://raw.githubusercontent.com/pulgamecanica/42Course/main/42/Python%20for%20Data%20Science/images/hobbits.jpg)"
   ]
  },
  {
   "cell_type": "markdown",
   "id": "cd2797b2-195a-4237-81df-36ff6aa8b012",
   "metadata": {},
   "source": [
    "# Ex00\n",
    "\n",
    "***\n",
    "\n",
    "## Data Samples | Data type manipulation\n",
    "\n",
    "> #### List [a,b]\n",
    "> \n",
    "> #### Tuple (a,b)\n",
    "> \n",
    "> #### Set {a,b}\n",
    "> \n",
    "> #### Dictionary {key: val}\n",
    "\n",
    "***"
   ]
  },
  {
   "cell_type": "code",
   "execution_count": 1,
   "id": "06380d91-1eb7-4216-9eda-2cef52979880",
   "metadata": {},
   "outputs": [],
   "source": [
    "ft_list = [\"Hello\", \"tataw!\"]\n",
    "ft_tuple = (\"Hello\", \"toto!\")\n",
    "ft_set = {\"Hello\", \"tutu!\"}\n",
    "ft_dict = {\"Hello\" : \"titi!\"}"
   ]
  },
  {
   "cell_type": "markdown",
   "id": "a01e0c32-fe54-4d4f-b524-d099a4043f46",
   "metadata": {},
   "source": [
    "***\n",
    "\n",
    "#### Modify the elements above so the output matches the following:\n",
    "\n",
    "```\n",
    "$> python Hello.py | cat -e\n",
    "['Hello', 'World!']$\n",
    "('Hello', 'France!')$\n",
    "{'Hello', 'Paris!'}$\n",
    "{'Hello': '42Paris!'}$\n",
    "$>\n",
    "```\n",
    "\n",
    "***"
   ]
  },
  {
   "cell_type": "code",
   "execution_count": 2,
   "id": "08cdf763-1c42-4b5a-a16d-f8183ab793e0",
   "metadata": {},
   "outputs": [],
   "source": [
    "# https://docs.python.org/3.11/library/stdtypes.html#list\n",
    "ft_list[1] = \"World!\"\n",
    "\n",
    "# https://docs.python.org/3.11/library/stdtypes.html#tuple\n",
    "ft_tuple = (\"Hello\", \"France!\")\n",
    "\n",
    "# https://docs.python.org/3.11/library/stdtypes.html#set\n",
    "ft_set.remove(\"tutu!\")\n",
    "ft_set.add(\"Paris!\")\n",
    "\n",
    "# https://docs.python.org/3.11/library/stdtypes.html#dict\n",
    "ft_dict[\"Hello\"] = \"42Paris!\""
   ]
  },
  {
   "cell_type": "code",
   "execution_count": 3,
   "id": "809ad8f1-4807-4a4a-9879-7a026992ef26",
   "metadata": {},
   "outputs": [
    {
     "name": "stdout",
     "output_type": "stream",
     "text": [
      "['Hello', 'World!']\n",
      "('Hello', 'France!')\n",
      "{'Paris!', 'Hello'}\n",
      "{'Hello': '42Paris!'}\n"
     ]
    }
   ],
   "source": [
    "print(ft_list)\n",
    "print(ft_tuple)\n",
    "print(ft_set)\n",
    "print(ft_dict)"
   ]
  },
  {
   "cell_type": "markdown",
   "id": "9d114d57-53b3-40fa-8b77-d75c0459e02a",
   "metadata": {},
   "source": [
    "***\n",
    "\n",
    "# Ex 01\n",
    "\n",
    "***\n",
    "\n",
    "## Time format, scientific notation\n",
    "\n",
    "```python\n",
    "import time\n",
    "dir(time)\n",
    "```\n",
    "\n",
    "***\n",
    "\n",
    "#### Produce the following output:\n",
    "\n",
    "```\n",
    "$>python format_ft_time.py | cat -e\n",
    "Seconds since January 1, 1970: 1,666,355,857.3622 or 1.67e+09 in scientific notation$\n",
    "Oct 21 2022$\n",
    "$>\n",
    "```\n",
    "\n",
    "> Note: of course your date will not be mine<br>\n",
    "> as in the example but it must be formatted the same.\n",
    "\n",
    "***"
   ]
  },
  {
   "cell_type": "code",
   "execution_count": 4,
   "id": "2d48213d-efdc-4e63-b5c0-c7e645196918",
   "metadata": {},
   "outputs": [
    {
     "name": "stdout",
     "output_type": "stream",
     "text": [
      "Seconds since January 1, 1970: 1,704,657,164.6276 or 1.70e+09 in scientific notation\n",
      "Jan 07 2024\n"
     ]
    }
   ],
   "source": [
    "import time\n",
    "\n",
    "print(f\"Seconds since January 1, 1970: {time.time():,.4f} or {time.time():.2e} in scientific notation\")\n",
    "\n",
    "# https://docs.python.org/3.11/library/time.html#time.strftime\n",
    "print(time.strftime(\"%b %d %Y\"))"
   ]
  },
  {
   "cell_type": "markdown",
   "id": "2feb3ec6-1b7b-4ea8-ac09-8a28f938a32b",
   "metadata": {},
   "source": [
    "***\n",
    "\n",
    "# Ex 02\n",
    "\n",
    "***\n",
    "\n",
    "## Types\n",
    "\n",
    "***\n",
    "\n",
    "#### Write a function that prints the object types and returns 42.\n",
    "\n",
    "#### Here’s how it should be prototyped:\n",
    "\n",
    "```python\n",
    "def all_thing_is_obj(object: any) -> int:\n",
    "    #your code here\n",
    "```\n",
    "\n",
    "***"
   ]
  },
  {
   "cell_type": "code",
   "execution_count": 5,
   "id": "57ca01d5-ac37-457e-b607-32515840f4bf",
   "metadata": {},
   "outputs": [],
   "source": [
    "def all_thing_is_obj(object: any) -> int:\n",
    "  types_dict = {\n",
    "    list: \"List\",\n",
    "    tuple: \"Tuple\",\n",
    "    set: \"Set\",\n",
    "    dict: \"Dict\"\n",
    "  }\n",
    "  if type(object) == str:\n",
    "    print(f\"{object} is in the kitchen : { type(object) }\")\n",
    "  elif type(object) in types_dict:\n",
    "    print(f\"{ types_dict[type(object)] :5s} : { type(object) }\")\n",
    "  else:\n",
    "    print(\"Type not found\")\n",
    "  return 42"
   ]
  },
  {
   "cell_type": "code",
   "execution_count": 6,
   "id": "f3b6a226-e1a1-48f3-9ff6-7d69df81abfa",
   "metadata": {},
   "outputs": [
    {
     "name": "stdout",
     "output_type": "stream",
     "text": [
      "List  : <class 'list'>\n",
      "Tuple : <class 'tuple'>\n",
      "Set   : <class 'set'>\n",
      "Dict  : <class 'dict'>\n",
      "Brian is in the kitchen : <class 'str'>\n",
      "Type not found\n",
      "Type not found\n",
      "Type not found\n",
      "42\n"
     ]
    }
   ],
   "source": [
    "# Tests\n",
    "\n",
    "all_thing_is_obj(ft_list)\n",
    "all_thing_is_obj(ft_tuple)\n",
    "all_thing_is_obj(ft_set)\n",
    "all_thing_is_obj(ft_dict)\n",
    "all_thing_is_obj(\"Brian\")\n",
    "all_thing_is_obj(42)\n",
    "all_thing_is_obj(10.42)\n",
    "print(all_thing_is_obj(10))"
   ]
  },
  {
   "cell_type": "markdown",
   "id": "b9a728e0-4691-4f0c-aadc-854b10f9d690",
   "metadata": {},
   "source": [
    "***\n",
    "\n",
    "# Ex 03\n",
    "\n",
    "***\n",
    "\n",
    "## Null\n",
    "\n",
    "***\n",
    "\n",
    "#### Write a function that prints the object type of all types of \"Null\".\n",
    "\n",
    "#### The types of nulls concidered are: None, 0, nan, False and \"\"\n",
    "\n",
    "#### Here’s how it should be prototyped:\n",
    "\n",
    "```python\n",
    "def NULL_not_found(object: any) -> int:\n",
    "    #your code here\n",
    "```\n",
    "\n",
    "***"
   ]
  },
  {
   "cell_type": "markdown",
   "id": "1c83675e-86aa-4662-bca4-89bf0cd6a8f3",
   "metadata": {},
   "source": [
    "> `object.__hash__` is being used to avoid errors when non hashable object is passed. It is not possible to use the \"in\" operator for non hashable objects."
   ]
  },
  {
   "cell_type": "code",
   "execution_count": 7,
   "id": "ea72610b-74d3-493c-aa3e-57d6e5836353",
   "metadata": {},
   "outputs": [],
   "source": [
    "import math\n",
    "\n",
    "def NULL_not_found(object: any) -> int:\n",
    "  nulls_dict = {\n",
    "    None: \"Nothing\",\n",
    "    bool: [False, \"Fake\"],\n",
    "    int: [0, \"Zero\"],\n",
    "    \"False\": \"Fake\",\n",
    "    \"\": \"Empty\"\n",
    "  }\n",
    "  if object.__hash__ and object in nulls_dict:\n",
    "    print(f\"{ nulls_dict[object] :7s} : { object } { type(object) }\")\n",
    "  elif type(object) == float and math.isnan(object):\n",
    "    print(f\"Cheese  : { object } { type(object) }\")\n",
    "  elif type(object) in nulls_dict and nulls_dict[type(object)][0] == object:\n",
    "    print(f\"{ nulls_dict[type(object)][1] :7s} : { object } { type(object) }\")\n",
    "  else:\n",
    "    print(\"Type not Found\")\n",
    "    return 1\n",
    "  return 0"
   ]
  },
  {
   "cell_type": "code",
   "execution_count": 8,
   "id": "53e411e0-b921-445b-b704-6cdaacba1d33",
   "metadata": {},
   "outputs": [
    {
     "name": "stdout",
     "output_type": "stream",
     "text": [
      "Nothing : None <class 'NoneType'>\n",
      "Cheese  : nan <class 'float'>\n",
      "Zero    : 0 <class 'int'>\n",
      "Empty   :  <class 'str'>\n",
      "Fake    : False <class 'bool'>\n",
      "Type not Found\n",
      "1\n",
      "Cheese  : nan <class 'float'>\n",
      "0\n",
      "Type not Found\n",
      "Type not Found\n",
      "Type not Found\n",
      "Type not Found\n",
      "Cheese  : nan <class 'float'>\n"
     ]
    },
    {
     "data": {
      "text/plain": [
       "0"
      ]
     },
     "execution_count": 8,
     "metadata": {},
     "output_type": "execute_result"
    }
   ],
   "source": [
    "# Tests\n",
    "\n",
    "Nothing = None\n",
    "Garlic = float(\"NaN\")\n",
    "Zero = 0\n",
    "Empty = \"\"\n",
    "Fake = False\n",
    "\n",
    "NULL_not_found(Nothing)\n",
    "NULL_not_found(Garlic)\n",
    "NULL_not_found(Zero)\n",
    "NULL_not_found(Empty)\n",
    "NULL_not_found(Fake)\n",
    "print(NULL_not_found(\"Brian\"))\n",
    "print(NULL_not_found(float(\"NaN\")))\n",
    "NULL_not_found(True)\n",
    "NULL_not_found(1)\n",
    "NULL_not_found({})\n",
    "NULL_not_found([])\n",
    "NULL_not_found(math.nan)"
   ]
  },
  {
   "cell_type": "markdown",
   "id": "9ecb73ad-bf81-4613-8a91-2f159151d4e7",
   "metadata": {},
   "source": [
    "***\n",
    "\n",
    "# Ex 04\n",
    "\n",
    "***\n",
    "\n",
    "## Assertion and arguments\n",
    "\n",
    "***\n",
    "\n",
    "#### Create a script that takes a number as argument, checks whether it is odd or even, and prints the result.\n",
    "\n",
    "#### If more than one argument is provided or if the argument is not an integer, print an AssertionError.\n",
    "\n",
    "***"
   ]
  },
  {
   "cell_type": "code",
   "execution_count": 22,
   "id": "f4f10535-698b-414f-ab2d-e7b3b6b36ac5",
   "metadata": {},
   "outputs": [
    {
     "name": "stdout",
     "output_type": "stream",
     "text": [
      "AssertionError: more than one argument is provided\n"
     ]
    }
   ],
   "source": [
    "import sys\n",
    "\n",
    "def is_num(n: int) -> bool:\n",
    "  try:\n",
    "    int(n)\n",
    "    return True\n",
    "  except ValueError:\n",
    "    return False\n",
    "\n",
    "if len(sys.argv) != 1:\n",
    "  try:\n",
    "    assert len(sys.argv) == 2, \"AssertionError: more than one argument is provided\"\n",
    "    assert is_num(sys.argv[1]), \"AssertionError: argument is not an integer\"\n",
    "    print(\"I'm\", \"Odd\" if (int(sys.argv[1]) % 2 != 0) else \"Even\")\n",
    "  except AssertionError as msg: \n",
    "    print(msg)"
   ]
  },
  {
   "cell_type": "markdown",
   "id": "dd52c124-a6d1-4eb7-b97f-b76567aa9e59",
   "metadata": {},
   "source": [
    "***\n",
    "\n",
    "# Ex 05\n",
    "\n",
    "***\n",
    "\n",
    "## More Arguments\n",
    "\n",
    "***\n",
    "\n",
    "#### Create a script which takes a single string argument and displays the sums of its upper-case characters, lower-case characters, punctuation characters, digits and spaces.\n",
    "\n",
    "> If None or nothing is provided, the user is prompted to provide a string.\n",
    "\n",
    "***\n"
   ]
  },
  {
   "cell_type": "code",
   "execution_count": 23,
   "id": "7fb0159d-e610-4fd0-8220-c9a4dbcf180f",
   "metadata": {},
   "outputs": [
    {
     "name": "stdout",
     "output_type": "stream",
     "text": [
      "The text contains 171 characters:\n",
      "2 upper letters\n",
      "121 lower letters\n",
      "8 punctuation marks\n",
      "25 spaces\n",
      "15 digits\n"
     ]
    },
    {
     "name": "stdin",
     "output_type": "stream",
     "text": [
      "Enter the data:  This is dope like 42!!! Hell yeah?\n"
     ]
    },
    {
     "name": "stdout",
     "output_type": "stream",
     "text": [
      "The text contains 34 characters:\n",
      "2 upper letters\n",
      "20 lower letters\n",
      "4 punctuation marks\n",
      "6 spaces\n",
      "2 digits\n"
     ]
    }
   ],
   "source": [
    "import sys\n",
    "\n",
    "# Comments & Documentation\n",
    "# https://realpython.com/documenting-python-code/#commenting-vs-documenting-code\n",
    "def analyse(data: str=None):\n",
    "    \"\"\"Analyse the string content\n",
    "\n",
    "The following elements are analysed:\n",
    "    - upper letters\n",
    "    - lower letters\n",
    "    - punctuation marks\n",
    "    - spaces\n",
    "    - digits\n",
    "\n",
    "Note\n",
    "----\n",
    "The punctuation marks to be concidered are the following:\n",
    "    !,';\".-?\n",
    "\n",
    "Parameters\n",
    "----------\n",
    "data: str\n",
    "    The string to be analysed\"\"\"\n",
    "\n",
    "    marks = (\"!\", \",\", \"\\'\", \";\", \"\\\"\", \".\", \"-\", \"?\")\n",
    "    if not data:\n",
    "        data = input(\"Enter the data: \")\n",
    "    print(f\"The text contains {len(data)} characters:\")\n",
    "    print(f\"{ sum([1 if _.isupper() else 0 for _ in data]) } upper letters\")\n",
    "    print(f\"{ sum([1 if _.islower() else 0 for _ in data]) } lower letters\")\n",
    "    print(f\"{ sum([1 if _ in marks else 0 for _ in data]) } punctuation marks\")\n",
    "    print(f\"{ sum([1 if _.isspace() else 0 for _ in data]) } spaces\")\n",
    "    print(f\"{ sum([1 if _.isdigit() else 0 for _ in data]) } digits\")\n",
    "\n",
    "analyse(\"Python 3.0, released in 2008, was a major revision that is not completely backward-compatible with earlier versions. Python 2 was discontinued with version 2.7.18 in 2020.\")\n",
    "analyse(None)"
   ]
  },
  {
   "cell_type": "markdown",
   "id": "2a365a34-1b11-430e-8435-89a46b903c3b",
   "metadata": {},
   "source": [
    "***\n",
    "\n",
    "# Ex 06\n",
    "\n",
    "***\n",
    "\n",
    "## Filter\n",
    "\n",
    "***\n",
    "\n",
    "#### Recode your own ft_filter, it should behave like the original built-in function\n",
    "\n",
    "> It should return the same thing as `print(filter.__doc__)`\n",
    ">\n",
    "> you should use list comprehensions to recode your ft_filter.\n",
    "\n",
    "***\n"
   ]
  },
  {
   "cell_type": "code",
   "execution_count": 24,
   "id": "57ab7b87-835e-438f-90e4-5df5d17ec392",
   "metadata": {},
   "outputs": [],
   "source": [
    "def ft_filter(function, iterable):\n",
    "    \"\"\"filter(function or None, iterable) --> filter object\n",
    "\n",
    "Return an iterator yielding those items of iterable for which function(item)\n",
    "is true. If function is None, return the items that are true.\"\"\"\n",
    "\n",
    "    if function:\n",
    "        return (_ for _ in iterable if function(_))\n",
    "    return (_ for _ in iterable if _)"
   ]
  },
  {
   "cell_type": "markdown",
   "id": "b478f358-7d3d-4b71-b772-9cb5f1208fac",
   "metadata": {},
   "source": [
    "#### Part 2: Now co\n"
   ]
  },
  {
   "cell_type": "code",
   "execution_count": 31,
   "id": "971e377c-5876-4b9d-aa5c-6a470682a0fd",
   "metadata": {},
   "outputs": [
    {
     "name": "stdout",
     "output_type": "stream",
     "text": [
      "['Hello', 'World']\n",
      "[]\n",
      "None\n",
      "None\n"
     ]
    }
   ],
   "source": [
    "def filterstring(str: str, n: int):\n",
    "    \"\"\"Main function, computation starts here\n",
    "\n",
    "The program should receive exactly 2 arguments\n",
    "The first argument should be a string\n",
    "The second argument should be a number\n",
    "\n",
    "The program will split the words contained in the string\n",
    "Then it will filter the ones which are greater than number passed\n",
    "\n",
    "Errors\n",
    "------\n",
    "AssertionError\n",
    "    More or less than 2 arguments passed\n",
    "    Second argument not being a number\n",
    "    \"\"\"\n",
    "\n",
    "    err_msg = \"AssertionError: received wrong number of arguments\"\n",
    "    try:\n",
    "        lst = str.split()\n",
    "        print([_ for _ in ft_filter(lambda _: len(_) > n, lst)])\n",
    "    except AssertionError as msg:\n",
    "        print(msg)\n",
    "\n",
    "a = filterstring(\"Hello the World\", 3)\n",
    "b = filterstring(\"Hello the World\", 99)\n",
    "print(a)\n",
    "print(b)"
   ]
  },
  {
   "cell_type": "markdown",
   "id": "442816a1-3781-4df7-b620-a513f3d3588b",
   "metadata": {},
   "source": [
    "***\n",
    "\n",
    "# Ex 07\n",
    "\n",
    "***\n",
    "\n",
    "## Dictionaries SoS\n",
    "\n",
    "***\n",
    "\n",
    "#### Make a program that takes a string as an argument and encodes it into Morse Code.\n",
    "\n",
    ">  The program supports space and alphanumeric characters\n",
    "> \n",
    "> An alphanumeric character is represented by dots . and dashes -\n",
    ">\n",
    "> Complete morse characters are separated by a single space\n",
    ">\n",
    "> A space character is represented by a slash /\n",
    "\n",
    "***\n"
   ]
  },
  {
   "cell_type": "code",
   "execution_count": 3,
   "id": "a0624ef7-320b-4e19-b832-32fd2b8faf7d",
   "metadata": {},
   "outputs": [],
   "source": [
    "import sys\n",
    "\n",
    "# https://www.geeksforgeeks.org/morse-code-translator-python/\n",
    "# Dictionary representing the morse code chart (from geeksforgeeks)\n",
    "MORSE_CODE_DICT = {\"A\": \".-\", \"B\": \"-...\",\n",
    "                        \"C\": \"-.-.\", \"D\": \"-..\", \"E\": \".\",\n",
    "                        \"F\": \"..-.\", \"G\": \"--.\", \"H\": \"....\",\n",
    "                        \"I\": \"..\", \"J\": \".---\", \"K\": \"-.-\",\n",
    "                        \"L\": \".-..\", \"M\": \"--\", \"N\": \"-.\",\n",
    "                        \"O\": \"---\", \"P\": \".--.\", \"Q\": \"--.-\",\n",
    "                        \"R\": \".-.\", \"S\": \"...\", \"T\": \"-\",\n",
    "                        \"U\": \"..-\", \"V\": \"...-\", \"W\": \".--\",\n",
    "                        \"X\": \"-..-\", \"Y\": \"-.--\", \"Z\": \"--..\",\n",
    "                        \"1\": \".----\", \"2\": \"..---\", \"3\": \"...--\",\n",
    "                        \"4\": \"....-\", \"5\": \".....\", \"6\": \"-....\",\n",
    "                        \"7\": \"--...\", \"8\": \"---..\", \"9\": \"----.\",\n",
    "                        \"0\": \"-----\", \", \": \"--..--\", \".\": \".-.-.-\",\n",
    "                        \"?\": \"..--..\", \"/\": \"-..-.\", \"-\": \"-....-\",\n",
    "                        \"(\": \"-.--.\", \")\": \"-.--.-\"}\n",
    "\n",
    "\n",
    "def print_morse_code(message, separator=\"/\"):\n",
    "    \"\"\"Function to convert and print\n",
    "        a string according to morse code\n",
    "    \"\"\"\n",
    "    morse = \"\"\n",
    "    err_msg = \"AssertionError: the arguments are bad\"\n",
    "    print_space_before = False\n",
    "    for x, letter in enumerate(message):\n",
    "        if letter == \" \":\n",
    "            morse += separator\n",
    "            print_space_before = False\n",
    "        else:\n",
    "            assert letter in MORSE_CODE_DICT, err_msg\n",
    "            if print_space_before:\n",
    "                morse += \" \"\n",
    "            morse += MORSE_CODE_DICT[letter]\n",
    "            print_space_before = True\n",
    "    print(morse)\n",
    "\n",
    "\n",
    "def main():\n",
    "    \"\"\"Main function, computation starts here\n",
    "\n",
    "The program should receive exactly 1 argument\n",
    "\n",
    "The program will translate the string to morse\n",
    "code and output the result\n",
    "\n",
    "Errors\n",
    "------\n",
    "AssertionError\n",
    "    More or less than 2 arguments passed\n",
    "    \"\"\"\n",
    "\n",
    "    err_msg = \"AssertionError: received wrong number of arguments\"\n",
    "    try:\n",
    "        assert len(sys.argv) == 2, err_msg\n",
    "        print_morse_code(sys.argv[1].upper())\n",
    "    except AssertionError as msg:\n",
    "        print(msg)\n"
   ]
  },
  {
   "cell_type": "markdown",
   "id": "d8af1a90-f31c-4588-a4b2-5e43f01f149e",
   "metadata": {},
   "source": [
    "***\n",
    "\n",
    "# Ex 09\n",
    "\n",
    "***\n",
    "\n",
    "## TQDM (Loading.py)\n",
    "\n",
    "***\n",
    "\n",
    "#### Mimic the original tqdm\n",
    "\n",
    "> The output must be the closest you can do it to the original version\n",
    ">\n",
    "> Minimal differences can be tolerated\n",
    ">\n",
    "> Wrong values (which make no sense) are not allowed\n",
    ">\n",
    "> Printing something else which the original does not print is not tolerated (under the circustances presented)\n",
    ">\n",
    "> For example, when it's < 1s per iteration, instead of printing the floating value of the seconds it prints the total iterations in per second\n",
    ">\n",
    "> *You should do similar if you decided to implement it\n",
    "\n",
    "***\n",
    "\n"
   ]
  },
  {
   "cell_type": "code",
   "execution_count": 5,
   "id": "011016d7-4525-42d0-973e-1a1add66ea18",
   "metadata": {},
   "outputs": [],
   "source": [
    "import time\n",
    "import math\n",
    "import os\n",
    "\n",
    "\n",
    "def time_format(s: float):\n",
    "    \"\"\"Convert the seconds to a time (hh:mm:ss)\n",
    "\n",
    "        Details\n",
    "        hours:minutes:seconds\n",
    "\n",
    "        Params:\n",
    "            s: seconds to be formated\n",
    "    \"\"\"\n",
    "    if s is None:\n",
    "        return \"?\"\n",
    "    mins, secs = divmod(s, 60)\n",
    "    hours, mins = divmod(mins, 60)\n",
    "    if hours == 0:\n",
    "        return f\"{int(mins):02d}:{int(secs):02d}\"\n",
    "    return f\"{int(hours):02d}:{int(mins):02d}:{int(secs):02d}\"\n",
    "\n",
    "\n",
    "def ft_tqdm(lst: range) -> None:\n",
    "    \"\"\"Mimic the original tqdm function\n",
    "\n",
    "        Details:\n",
    "            \"?\" symbol for unknown time formats or iterations\n",
    "            s/it & it/s show s/it when seconds per iteraton is higher than 1\n",
    "\n",
    "    spi: seconds per iteration\n",
    "    ips: iterations per second\n",
    "    \"\"\"\n",
    "    w = os.get_terminal_size()[0]\n",
    "    total = len(lst)\n",
    "    percentage_w = 4\n",
    "    bar_margin_w = 2\n",
    "    bar_margin = \"|\"\n",
    "    bar_fill = \"█\"\n",
    "    timestamp = time.time()\n",
    "    i = 0\n",
    "    while (i <= total):\n",
    "        percentage = i / total\n",
    "        items_w = len(str(i)) + len(\" / \") + len(str(total))\n",
    "        # Time info\n",
    "        time_info_elapsed = time.time() - timestamp\n",
    "        spi = None if i == 0 else (float)(time_info_elapsed / i)\n",
    "        ips = None if time_info_elapsed == 0 else float(i / time_info_elapsed)\n",
    "        time_info_left = None if spi is None else (total - i) / ips\n",
    "        time_info_iterations = \"?\"\n",
    "        if ips and spi:\n",
    "            time_info_iterations = f\"{spi:.2f}\" if spi > 1 else f\"{ips:.2f}\"\n",
    "        time_info_iterations_suffix = \"s/it\" if spi and spi > 1 else \"it/s\"\n",
    "        time_info = (\n",
    "            f\"[{time_format(time_info_elapsed)}\"\n",
    "            f\"<{time_format(time_info_left)}, \"\n",
    "            f\"{time_info_iterations}{time_info_iterations_suffix}]\"\n",
    "        )\n",
    "        time_info_w = len(time_info)\n",
    "        # Prepare Bar\n",
    "        bar_w = w - percentage_w - bar_margin_w - items_w - time_info_w\n",
    "        bar_filled = bar_fill * (int)(percentage * bar_w)\n",
    "        bar = bar_filled + (\" \" * (bar_w - len(bar_filled)))\n",
    "        print(\"\\r\"\n",
    "              f\"{math.ceil(percentage*100):-3d}%\"\n",
    "              f\"{bar_margin}{bar}{bar_margin}\"\n",
    "              f\" {i}/{total} \"\n",
    "              f\"{time_info}\", end=\"\", flush=True)\n",
    "        if i != total:\n",
    "            yield i\n",
    "        i += 1"
   ]
  },
  {
   "cell_type": "code",
   "execution_count": null,
   "id": "65ced89a-d895-4858-a31d-efd7df6dfcf1",
   "metadata": {},
   "outputs": [],
   "source": []
  }
 ],
 "metadata": {
  "kernelspec": {
   "display_name": "Python 3 (ipykernel)",
   "language": "python",
   "name": "python3"
  },
  "language_info": {
   "codemirror_mode": {
    "name": "ipython",
    "version": 3
   },
   "file_extension": ".py",
   "mimetype": "text/x-python",
   "name": "python",
   "nbconvert_exporter": "python",
   "pygments_lexer": "ipython3",
   "version": "3.11.8"
  }
 },
 "nbformat": 4,
 "nbformat_minor": 5
}
